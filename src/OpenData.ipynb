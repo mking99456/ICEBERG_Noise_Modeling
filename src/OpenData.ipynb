{
 "cells": [
  {
   "cell_type": "code",
   "execution_count": null,
   "metadata": {},
   "outputs": [],
   "source": [
    "from myprocessor import myprocessor as myp\n",
    "\n",
    "\n",
    "returnPSD, returnCorr, corrbandpass, returnBothLive, returnkurt = myp.processevent()"
   ]
  }
 ],
 "metadata": {
  "language_info": {
   "name": "python"
  },
  "orig_nbformat": 4
 },
 "nbformat": 4,
 "nbformat_minor": 2
}
