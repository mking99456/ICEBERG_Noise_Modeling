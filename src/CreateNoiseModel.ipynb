{
 "cells": [
  {
   "cell_type": "code",
   "execution_count": null,
   "metadata": {},
   "outputs": [],
   "source": [
    "filenames = ['iceberg_r009693_sr01_20210404T192346_1_dl1_decode.root', 'iceberg_r009697_sr01_20210404T194635_1_dl1_decode.root', 'iceberg_r009702_sr01_20210404T204459_1_dl1_decode.root',  'iceberg_r009706_sr01_20210404T210522_1_dl1_decode.root',  'iceberg_r009710_sr01_20210404T212534_1_dl1_decode.root',\n",
    "'iceberg_r009694_sr01_20210404T192925_1_dl1_decode.root',  'iceberg_r009698_sr01_20210404T195219_1_dl1_decode.root',  'iceberg_r009703_sr01_20210404T205038_1_dl1_decode.root',  'iceberg_r009707_sr01_20210404T211101_1_dl1_decode.root',  'iceberg_r009711_sr01_20210404T213002_1_dl1_decode.root',\n",
    "'iceberg_r009695_sr01_20210404T193508_1_dl1_decode.root',  'iceberg_r009699_sr01_20210404T195808_1_dl1_decode.root',  'iceberg_r009704_sr01_20210404T205505_1_dl1_decode.root',  'iceberg_r009708_sr01_20210404T211527_1_dl1_decode.root',\n",
    "'iceberg_r009696_sr01_20210404T194054_1_dl1_decode.root',  'iceberg_r009701_sr01_20210404T200822_1_dl1_decode.root'  ,'iceberg_r009705_sr01_20210404T205939_1_dl1_decode.root' , 'iceberg_r009709_sr01_20210404T212107_1_dl1_decode.root']\n",
    "\n",
    "for i in range(len(filenames)):\n",
    "    filenames[i] = '/dune/data/users/mking/ICEBERG_Run5_Decoded/no_pulser_or_cosmics/' + filenames[i]\n",
    "\n",
    "#Save the data. You will need to change this every run/delete and re-create the .npz file\n",
    "savefile = '/dune/app/users/poshung/nopulserorcosmic/multirunresults.npz'\n",
    "\n",
    "#Read our lists of file paths\n",
    "with open('/dune/data/users/mking/ICEBERG_Run5_Decoded/filelist.txt') as f:\n",
    "    filenames = f.readlines()\n",
    "with open('/dune/data2/users/mking/ICEBERG_Run5_Decoded/filelist.txt') as g:\n",
    "    secondfiles = g.readlines()\n",
    "for i in range(len(secondfiles)):\n",
    "    filenames.append(secondfiles[i])\n",
    "\n"
   ]
  },
  {
   "cell_type": "code",
   "execution_count": null,
   "metadata": {},
   "outputs": [],
   "source": [
    "import myprocessor as myp\n",
    "filenames = ['/home/matt/Documents/ICEBERG/clean_data_files_run5/iceberg_r009693_sr01_20210404T192346_1_dl1_decode.root']\n",
    "outputFile = 'NoiseModelTest09202023.npz'\n",
    "myp.createNoiseModel(filenames,outputFile)"
   ]
  }
 ],
 "metadata": {
  "kernelspec": {
   "display_name": "base",
   "language": "python",
   "name": "python3"
  },
  "language_info": {
   "codemirror_mode": {
    "name": "ipython",
    "version": 3
   },
   "file_extension": ".py",
   "mimetype": "text/x-python",
   "name": "python",
   "nbconvert_exporter": "python",
   "pygments_lexer": "ipython3",
   "version": "3.10.9"
  },
  "orig_nbformat": 4
 },
 "nbformat": 4,
 "nbformat_minor": 2
}
