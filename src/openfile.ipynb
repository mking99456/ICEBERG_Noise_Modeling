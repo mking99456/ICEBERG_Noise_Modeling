{
 "cells": [
  {
   "cell_type": "code",
   "execution_count": 5,
   "metadata": {},
   "outputs": [
    {
     "ename": "KeyError",
     "evalue": "'arr_1 is not a file in the archive'",
     "output_type": "error",
     "traceback": [
      "\u001b[0;31m---------------------------------------------------------------------------\u001b[0m",
      "\u001b[0;31mKeyError\u001b[0m                                  Traceback (most recent call last)",
      "Cell \u001b[0;32mIn[5], line 11\u001b[0m\n\u001b[1;32m      9\u001b[0m SampleSpacing \u001b[39m=\u001b[39m \u001b[39m0.5e-6\u001b[39m\n\u001b[1;32m     10\u001b[0m myarray \u001b[39m=\u001b[39m np\u001b[39m.\u001b[39mload(\u001b[39m'\u001b[39m\u001b[39m/dune/app/users/poshung/jupyter_scripts/ASDDataTest.npz\u001b[39m\u001b[39m'\u001b[39m)\n\u001b[0;32m---> 11\u001b[0m \u001b[39mprint\u001b[39m(myarray[\u001b[39m'\u001b[39;49m\u001b[39marr_1\u001b[39;49m\u001b[39m'\u001b[39;49m])\n\u001b[1;32m     12\u001b[0m \u001b[39mprint\u001b[39m(np\u001b[39m.\u001b[39msum(myarray[\u001b[39m'\u001b[39m\u001b[39marr_2\u001b[39m\u001b[39m'\u001b[39m]))\n\u001b[1;32m     13\u001b[0m hist\u001b[39m.\u001b[39mHistAvgASDbyPlane(myarray[\u001b[39m'\u001b[39m\u001b[39marr_0\u001b[39m\u001b[39m'\u001b[39m],numtpcs,numplanes,maxwires,minwvfm,SampleSpacing)\n",
      "File \u001b[0;32m/dune/app/users/poshung/conda_libs/envs/my_root_env/lib/python3.11/site-packages/numpy/lib/npyio.py:263\u001b[0m, in \u001b[0;36mNpzFile.__getitem__\u001b[0;34m(self, key)\u001b[0m\n\u001b[1;32m    261\u001b[0m         \u001b[39mreturn\u001b[39;00m \u001b[39mself\u001b[39m\u001b[39m.\u001b[39mzip\u001b[39m.\u001b[39mread(key)\n\u001b[1;32m    262\u001b[0m \u001b[39melse\u001b[39;00m:\n\u001b[0;32m--> 263\u001b[0m     \u001b[39mraise\u001b[39;00m \u001b[39mKeyError\u001b[39;00m(\u001b[39mf\u001b[39m\u001b[39m\"\u001b[39m\u001b[39m{\u001b[39;00mkey\u001b[39m}\u001b[39;00m\u001b[39m is not a file in the archive\u001b[39m\u001b[39m\"\u001b[39m)\n",
      "\u001b[0;31mKeyError\u001b[0m: 'arr_1 is not a file in the archive'"
     ]
    }
   ],
   "source": [
    "import numpy as np\n",
    "from twodhist import twodhist as hist\n",
    "numtpcs = 2\n",
    "numplanes = 3\n",
    "numchannels = 1024\n",
    "maxwires = 240\n",
    "minwvfm = 2128\n",
    "ASDlength = 1065 #the length of the ASD of the minwvfm\n",
    "SampleSpacing = 0.5e-6\n",
    "myarray = np.load('/dune/app/users/poshung/jupyter_scripts/ASDDataTest.npz')\n",
    "print(myarray['arr_1'])\n",
    "print(np.sum(myarray['arr_2']))\n",
    "hist.HistAvgASDbyPlane(myarray['arr_0'],numtpcs,numplanes,maxwires,minwvfm,SampleSpacing)"
   ]
  }
 ],
 "metadata": {
  "kernelspec": {
   "display_name": "my_root_env",
   "language": "python",
   "name": "python3"
  },
  "language_info": {
   "codemirror_mode": {
    "name": "ipython",
    "version": 3
   },
   "file_extension": ".py",
   "mimetype": "text/x-python",
   "name": "python",
   "nbconvert_exporter": "python",
   "pygments_lexer": "ipython3",
   "version": "3.11.4"
  },
  "orig_nbformat": 4
 },
 "nbformat": 4,
 "nbformat_minor": 2
}
