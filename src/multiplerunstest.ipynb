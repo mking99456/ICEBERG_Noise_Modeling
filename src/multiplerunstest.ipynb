{
 "cells": [
  {
   "cell_type": "code",
   "execution_count": 2,
   "metadata": {},
   "outputs": [
    {
     "name": "stdout",
     "output_type": "stream",
     "text": [
      "BEGINNING RUN: /home/poshu/Downloads/iceberg_9055.root\n",
      "Number of events with data: 38 Number of Channels: 1024 Waveform Length: 2128\n",
      "pre-mask max std: 377.30591525690375\n",
      "pre-mask mean std: 150.0245472582301\n",
      "starting event number: 0\n",
      "starting event number: 2\n"
     ]
    },
    {
     "ename": "KeyboardInterrupt",
     "evalue": "",
     "output_type": "error",
     "traceback": [
      "\u001b[0;31m---------------------------------------------------------------------------\u001b[0m",
      "\u001b[0;31mKeyboardInterrupt\u001b[0m                         Traceback (most recent call last)",
      "Cell \u001b[0;32mIn[2], line 4\u001b[0m\n\u001b[1;32m      1\u001b[0m \u001b[39mfrom\u001b[39;00m \u001b[39mmyprocessor\u001b[39;00m \u001b[39mimport\u001b[39;00m myprocessor \u001b[39mas\u001b[39;00m myp\n\u001b[1;32m      3\u001b[0m filenames \u001b[39m=\u001b[39m [\u001b[39m'\u001b[39m\u001b[39m/home/poshu/Downloads/iceberg_9055.root\u001b[39m\u001b[39m'\u001b[39m,\u001b[39m'\u001b[39m\u001b[39m/home/poshu/Downloads/iceberg_9825.root\u001b[39m\u001b[39m'\u001b[39m,\u001b[39m'\u001b[39m\u001b[39m/home/poshu/Downloads/iceberg_9613.root\u001b[39m\u001b[39m'\u001b[39m]\n\u001b[0;32m----> 4\u001b[0m myp\u001b[39m.\u001b[39;49mmultiprocess(filenames)\n",
      "File \u001b[0;32m~/Documents/hello/ICEBERGFILES/myprocessor.py:25\u001b[0m, in \u001b[0;36mmyprocessor.multiprocess\u001b[0;34m(filenames)\u001b[0m\n\u001b[1;32m     23\u001b[0m \u001b[39mfor\u001b[39;00m run \u001b[39min\u001b[39;00m \u001b[39mrange\u001b[39m(\u001b[39mlen\u001b[39m(filenames)):\n\u001b[1;32m     24\u001b[0m     \u001b[39mprint\u001b[39m(\u001b[39m\"\u001b[39m\u001b[39mBEGINNING RUN: \u001b[39m\u001b[39m\"\u001b[39m \u001b[39m+\u001b[39m filenames[run])\n\u001b[0;32m---> 25\u001b[0m     tempadc,tempsample,tempchannel \u001b[39m=\u001b[39m file\u001b[39m.\u001b[39mgetADC(filenames[run], minwvfm, numchannels) \u001b[39m#Read the file\u001b[39;00m\n\u001b[1;32m     26\u001b[0m     tempmasked \u001b[39m=\u001b[39m mask\u001b[39m.\u001b[39mmasksignals(tempadc) \u001b[39m#Mask the clock signals\u001b[39;00m\n\u001b[1;32m     27\u001b[0m     tempsorted \u001b[39m=\u001b[39m sort\u001b[39m.\u001b[39msortdata(tempmasked,tempchannel) \u001b[39m#Sort the waveforms by TPC/Plane\u001b[39;00m\n",
      "File \u001b[0;32m~/Documents/hello/ICEBERGFILES/clockmask.py:58\u001b[0m, in \u001b[0;36mclockmask.masksignals\u001b[0;34m(arrayADC)\u001b[0m\n\u001b[1;32m     56\u001b[0m \u001b[39m#classic threshold mask. anything varied by >6*noiseSTD get replaced with the mean\u001b[39;00m\n\u001b[1;32m     57\u001b[0m \u001b[39mfor\u001b[39;00m datapt \u001b[39min\u001b[39;00m \u001b[39mrange\u001b[39m(\u001b[39m0\u001b[39m,\u001b[39mlen\u001b[39m(arrayADC[nEvent][nChannel])):\n\u001b[0;32m---> 58\u001b[0m     \u001b[39mif\u001b[39;00m((arrayADC[nEvent][nChannel][datapt] \u001b[39m>\u001b[39m noiseMean\u001b[39m+\u001b[39m\u001b[39m6\u001b[39m\u001b[39m*\u001b[39mnoiseSTD)\u001b[39m|\u001b[39m(arrayADC[nEvent][nChannel][datapt] \u001b[39m<\u001b[39m noiseMean\u001b[39m-\u001b[39m\u001b[39m6\u001b[39m\u001b[39m*\u001b[39mnoiseSTD)):\n\u001b[1;32m     59\u001b[0m         arrayADC[nEvent][nChannel][datapt] \u001b[39m=\u001b[39m noiseMean\n\u001b[1;32m     60\u001b[0m         switchedArr[datapt] \u001b[39m=\u001b[39m \u001b[39mTrue\u001b[39;00m\n",
      "\u001b[0;31mKeyboardInterrupt\u001b[0m: "
     ]
    }
   ],
   "source": [
    "from myprocessor import myprocessor as myp\n",
    "\n",
    "filenames = ['/home/poshu/Downloads/iceberg_9055.root','/home/poshu/Downloads/iceberg_9825.root','/home/poshu/Downloads/iceberg_9613.root']\n",
    "myp.multiprocess(filenames)"
   ]
  }
 ],
 "metadata": {
  "kernelspec": {
   "display_name": "Python 3",
   "language": "python",
   "name": "python3"
  },
  "language_info": {
   "codemirror_mode": {
    "name": "ipython",
    "version": 3
   },
   "file_extension": ".py",
   "mimetype": "text/x-python",
   "name": "python",
   "nbconvert_exporter": "python",
   "pygments_lexer": "ipython3",
   "version": "3.10.11"
  },
  "orig_nbformat": 4
 },
 "nbformat": 4,
 "nbformat_minor": 2
}
