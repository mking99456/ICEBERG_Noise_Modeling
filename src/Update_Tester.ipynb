{
 "cells": [
  {
   "cell_type": "code",
   "execution_count": 14,
   "metadata": {},
   "outputs": [],
   "source": [
    "x = np.zeros((2,3,4),dtype = int)"
   ]
  },
  {
   "cell_type": "code",
   "execution_count": 15,
   "metadata": {},
   "outputs": [
    {
     "name": "stdout",
     "output_type": "stream",
     "text": [
      "(2, 3, 4)\n"
     ]
    }
   ],
   "source": [
    "print(x.shape)"
   ]
  },
  {
   "cell_type": "code",
   "execution_count": 16,
   "metadata": {},
   "outputs": [
    {
     "name": "stdout",
     "output_type": "stream",
     "text": [
      "(3, 4)\n"
     ]
    }
   ],
   "source": [
    "print(x.shape[1:])"
   ]
  },
  {
   "cell_type": "code",
   "execution_count": 20,
   "metadata": {},
   "outputs": [
    {
     "name": "stdout",
     "output_type": "stream",
     "text": [
      "[0. 0. 0.]\n",
      "(3,)\n",
      "()\n"
     ]
    }
   ],
   "source": [
    "y = np.zeros(3)\n",
    "print(y)\n",
    "\n",
    "print(y.shape)\n",
    "print(y.shape[1:])"
   ]
  },
  {
   "cell_type": "code",
   "execution_count": 24,
   "metadata": {},
   "outputs": [
    {
     "name": "stdout",
     "output_type": "stream",
     "text": [
      "[1 2 3 4 5 6 7 8 9]\n",
      "[0 1 2]\n",
      "[1 2]\n"
     ]
    }
   ],
   "source": [
    "a = np.array(range(10))\n",
    "print(a[1:])\n",
    "print(a[:3])\n",
    "print(a[1:3])"
   ]
  },
  {
   "cell_type": "code",
   "execution_count": 45,
   "metadata": {},
   "outputs": [
    {
     "name": "stdout",
     "output_type": "stream",
     "text": [
      "[ 0  1  2  3  4  5  6  7  8  9 10 11 12]\n",
      "(2, 3, 4)\n",
      "[1 9 2 3 4]\n",
      "(1, 9, 2, 3, 4)\n"
     ]
    }
   ],
   "source": [
    "b = np.array([10,11,12])\n",
    "c = np.concatenate((a,b))\n",
    "print(c)\n",
    "\n",
    "print(x.shape)\n",
    "\n",
    "new_shape = np.concatenate((np.array([1,9]),x.shape))\n",
    "print(new_shape)\n",
    "z = np.zeros(np.concatenate(([1,9],x.shape)))\n",
    "print(z.shape)"
   ]
  },
  {
   "cell_type": "code",
   "execution_count": 49,
   "metadata": {},
   "outputs": [
    {
     "name": "stdout",
     "output_type": "stream",
     "text": [
      "[  40   80  120  160  200  240  280  320  360  400  440  480  520  560\n",
      "  600  640  680  720  760  800  848  896  944  992 1040 1088 1136 1184\n",
      " 1232 1280]\n"
     ]
    }
   ],
   "source": [
    "ticks = np.concatenate((40*(np.arange(19)+1),48*np.arange(11)+800))\n",
    "print(ticks)"
   ]
  },
  {
   "cell_type": "code",
   "execution_count": 55,
   "metadata": {},
   "outputs": [
    {
     "name": "stdout",
     "output_type": "stream",
     "text": [
      "(2, 3, 3)\n",
      "(3, 3)\n",
      "(2, 3, 3)\n",
      "[[[1.0e-01 2.0e-02 3.0e-03]\n",
      "  [4.0e-04 5.0e-05 6.0e-06]\n",
      "  [7.0e-07 8.0e-08 9.0e-09]]\n",
      "\n",
      " [[1.0e+00 1.1e-01 1.2e-02]\n",
      "  [1.3e-03 1.4e-04 1.5e-05]\n",
      "  [1.6e-06 1.7e-07 1.8e-08]]]\n"
     ]
    }
   ],
   "source": [
    "CorrbyBand = np.array([[[1,2,3],[4,5,6],[7,8,9]],[[10,11,12],[13,14,15],[16,17,18]]])\n",
    "print(CorrbyBand.shape)\n",
    "\n",
    "Divisor = np.array([[10,100,1000],[1e4,1e5,1e6],[1e7,1e8,1e9]])\n",
    "print(Divisor.shape)\n",
    "\n",
    "Quotient = np.divide(CorrbyBand,Divisor)\n",
    "print(Quotient.shape)\n",
    "print(Quotient)"
   ]
  }
 ],
 "metadata": {
  "kernelspec": {
   "display_name": "base",
   "language": "python",
   "name": "python3"
  },
  "language_info": {
   "codemirror_mode": {
    "name": "ipython",
    "version": 3
   },
   "file_extension": ".py",
   "mimetype": "text/x-python",
   "name": "python",
   "nbconvert_exporter": "python",
   "pygments_lexer": "ipython3",
   "version": "3.10.9"
  },
  "orig_nbformat": 4
 },
 "nbformat": 4,
 "nbformat_minor": 2
}
