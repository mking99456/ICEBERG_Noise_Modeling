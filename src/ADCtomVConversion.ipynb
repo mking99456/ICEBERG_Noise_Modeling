{
 "cells": [
  {
   "cell_type": "code",
   "execution_count": 2,
   "metadata": {},
   "outputs": [],
   "source": [
    "import numpy as np\n",
    "from myprocessor import myprocessor\n",
    "from plotter import plotter\n",
    "import matplotlib.pyplot as plt\n",
    "\n",
    "#Loads in the noise model from an npz file\n",
    "NoiseModelFileName = 'NoiseModel_Full_11012023.npz'\n",
    "\n",
    "myarray = np.load(NoiseModelFileName)\n",
    "\n",
    "PSDarray = myarray['PSD']\n",
    "rCorr = myarray['rCorr']\n",
    "CorrBand = myarray['CorrBand']\n",
    "BothLive = myarray['BothLive']\n",
    "KurtMasking = myarray['KurtMasking']\n",
    "TotalEvents = myarray['TotalEvents']"
   ]
  },
  {
   "cell_type": "code",
   "execution_count": 2,
   "metadata": {},
   "outputs": [
    {
     "name": "stdout",
     "output_type": "stream",
     "text": [
      "[0.01769003 0.01769003 0.01774257]\n"
     ]
    }
   ],
   "source": [
    "#PSDarray -> reshape -> multiply induction and collection planes by corresponding scale factors\n",
    "#reshape back to linear\n",
    "#Store in a new npz in same format\n",
    "#Look into TH1D format? Otherwise send to Wenqiang with documentation and see if that works for him\n",
    "\n",
    "Conv_Factor = np.zeros(plotter.numplanes)\n",
    "Slope = np.array([3039,3039,3030]) #2 induction planes, 1 collection plane\n",
    "\n",
    "Conv_Factor = 1/Slope * 24*10**3 * 1.6*10**(-4) * 14\n",
    "print(Conv_Factor)\n",
    "\n",
    "SortedPSDArray = plotter.convert_to_sorted(PSDarray)\n",
    "\n",
    "N = myprocessor.minwvfm\n",
    "T = myprocessor.SampleSpacing*N\n",
    "\n",
    "for iTPC in range(2):\n",
    "    for iPlane in range(3):\n",
    "            SortedPSDArray[iTPC][iPlane] /= (2*T/N**2) #Divide out normalization\n",
    "            SortedPSDArray[iTPC][iPlane] = np.sqrt(SortedPSDArray[iTPC][iPlane]) #Square root to get |FFT|\n",
    "            SortedPSDArray[iTPC][iPlane] *= Conv_Factor[iPlane] #Get in units of mV"
   ]
  },
  {
   "cell_type": "code",
   "execution_count": 3,
   "metadata": {},
   "outputs": [],
   "source": [
    "#Use this direct ADC->mV conversion using the dynamic range of ICEBERG\n",
    "\n",
    "New_Conv_Factor = 1400/2**14\n",
    "SortedPSDArray = plotter.convert_to_sorted(PSDarray)\n",
    "\n",
    "N = myprocessor.minwvfm\n",
    "T = myprocessor.SampleSpacing*N\n",
    "\n",
    "for iTPC in range(2):\n",
    "    for iPlane in range(3):\n",
    "            SortedPSDArray[iTPC][iPlane] /= (2*T/N**2) #Divide out normalization\n",
    "            SortedPSDArray[iTPC][iPlane] = np.sqrt(SortedPSDArray[iTPC][iPlane]) #Square root to get |FFT|\n",
    "            SortedPSDArray[iTPC][iPlane] *= New_Conv_Factor #Get in units of mV\n"
   ]
  },
  {
   "cell_type": "code",
   "execution_count": 4,
   "metadata": {},
   "outputs": [],
   "source": [
    "Converted_PSDArray = plotter.convert_to_mega(SortedPSDArray)"
   ]
  },
  {
   "cell_type": "code",
   "execution_count": 5,
   "metadata": {},
   "outputs": [],
   "source": [
    "#Add the FFT from FEMB 8 to where FEMBs 6 and 9 would go\n",
    "Converted_PSDArray[240:280] = Converted_PSDArray[280:320] #FEMB 9 u1 = FEMB 8 u1\n",
    "Converted_PSDArray[360:400] = Converted_PSDArray[280:320] #FEMB 6 u1 = FEMB 8 u1\n",
    "Converted_PSDArray[600:640] = Converted_PSDArray[680:720] #FEMB 6 v1 = FEMB 8 v1\n",
    "Converted_PSDArray[720:760] = Converted_PSDArray[680:720] #FEMB 9 v1 = FEMB 8 v1\n",
    "Converted_PSDArray[1088:1136] = Converted_PSDArray[1136:1184] #FEMB 9 z1 = FEMB 8 z1\n",
    "Converted_PSDArray[1232:1280] = Converted_PSDArray[1136:1184] #FEMB 6 z1 = FEMB 8 z1"
   ]
  },
  {
   "cell_type": "code",
   "execution_count": 6,
   "metadata": {},
   "outputs": [],
   "source": [
    "#Create new noise model file with conversion complete. Rejoice. Document. Send to Wenqiang.\n",
    "savefile = \"NoiseModel_mV_03_05_2024.npz\"\n",
    "np.savez(savefile,FFT = Converted_PSDArray, rCorr = rCorr, CorrBand = CorrBand, BothLive = BothLive, KurtMasking = KurtMasking, TotalEvents = TotalEvents)"
   ]
  },
  {
   "cell_type": "code",
   "execution_count": 5,
   "metadata": {},
   "outputs": [
    {
     "name": "stdout",
     "output_type": "stream",
     "text": [
      "28.488978346496\n",
      "0.0012187791238614223\n",
      "23375.01339556523\n"
     ]
    }
   ],
   "source": [
    "print(Converted_PSDArray[3][4])\n",
    "print(PSDarray[3][4])\n",
    "print(Converted_PSDArray[3][4]/PSDarray[3][4])"
   ]
  },
  {
   "cell_type": "code",
   "execution_count": 8,
   "metadata": {},
   "outputs": [
    {
     "name": "stdout",
     "output_type": "stream",
     "text": [
      "2128\n",
      "5e-07\n",
      "0.001064\n"
     ]
    }
   ],
   "source": [
    "freq = np.fft.rfftfreq(plotter.minwvfm,plotter.SampleSpacing)\n",
    "print(plotter.minwvfm)\n",
    "print(plotter.SampleSpacing)\n",
    "print(plotter.minwvfm*plotter.SampleSpacing)"
   ]
  },
  {
   "cell_type": "code",
   "execution_count": 9,
   "metadata": {},
   "outputs": [],
   "source": [
    "#Just the relevant information for Wenqiang:\n",
    "savefile = \"ICEBERG_Noise_Model_For_Wirecell\"\n",
    "np.savez(savefile,FFT = Converted_PSDArray,freq = freq, N = plotter.minwvfm, T = plotter.minwvfm*plotter.SampleSpacing)\n"
   ]
  }
 ],
 "metadata": {
  "kernelspec": {
   "display_name": "base",
   "language": "python",
   "name": "python3"
  },
  "language_info": {
   "codemirror_mode": {
    "name": "ipython",
    "version": 3
   },
   "file_extension": ".py",
   "mimetype": "text/x-python",
   "name": "python",
   "nbconvert_exporter": "python",
   "pygments_lexer": "ipython3",
   "version": "3.10.9"
  },
  "orig_nbformat": 4
 },
 "nbformat": 4,
 "nbformat_minor": 2
}
